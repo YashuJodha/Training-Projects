{
  "cells": [
    {
      "cell_type": "code",
      "execution_count": null,
      "id": "f9396030",
      "metadata": {
        "id": "f9396030"
      },
      "outputs": [],
      "source": [
        "import numpy as np\n",
        "import pandas as pd"
      ]
    },
    {
      "cell_type": "code",
      "execution_count": null,
      "id": "850b68ea",
      "metadata": {
        "id": "850b68ea"
      },
      "outputs": [],
      "source": [
        "df = pd.read_csv(\"C:\\\\Users\\\\saurabh\\\\Desktop\\\\pyth\\\\IMDB Dataset.csv\")"
      ]
    },
    {
      "cell_type": "code",
      "execution_count": null,
      "id": "6fc4df66",
      "metadata": {
        "id": "6fc4df66"
      },
      "outputs": [],
      "source": [
        "df = df.iloc[:10000]"
      ]
    },
    {
      "cell_type": "code",
      "execution_count": null,
      "id": "912ed485",
      "metadata": {
        "id": "912ed485",
        "outputId": "7597be8a-8962-418b-aa4d-8d19c6f6f213"
      },
      "outputs": [
        {
          "data": {
            "text/html": [
              "<div>\n",
              "<style scoped>\n",
              "    .dataframe tbody tr th:only-of-type {\n",
              "        vertical-align: middle;\n",
              "    }\n",
              "\n",
              "    .dataframe tbody tr th {\n",
              "        vertical-align: top;\n",
              "    }\n",
              "\n",
              "    .dataframe thead th {\n",
              "        text-align: right;\n",
              "    }\n",
              "</style>\n",
              "<table border=\"1\" class=\"dataframe\">\n",
              "  <thead>\n",
              "    <tr style=\"text-align: right;\">\n",
              "      <th></th>\n",
              "      <th>review</th>\n",
              "      <th>sentiment</th>\n",
              "    </tr>\n",
              "  </thead>\n",
              "  <tbody>\n",
              "    <tr>\n",
              "      <th>0</th>\n",
              "      <td>One of the other reviewers has mentioned that ...</td>\n",
              "      <td>positive</td>\n",
              "    </tr>\n",
              "    <tr>\n",
              "      <th>1</th>\n",
              "      <td>A wonderful little production. &lt;br /&gt;&lt;br /&gt;The...</td>\n",
              "      <td>positive</td>\n",
              "    </tr>\n",
              "    <tr>\n",
              "      <th>2</th>\n",
              "      <td>I thought this was a wonderful way to spend ti...</td>\n",
              "      <td>positive</td>\n",
              "    </tr>\n",
              "  </tbody>\n",
              "</table>\n",
              "</div>"
            ],
            "text/plain": [
              "                                              review sentiment\n",
              "0  One of the other reviewers has mentioned that ...  positive\n",
              "1  A wonderful little production. <br /><br />The...  positive\n",
              "2  I thought this was a wonderful way to spend ti...  positive"
            ]
          },
          "execution_count": 4,
          "metadata": {},
          "output_type": "execute_result"
        }
      ],
      "source": [
        "df.head(3)"
      ]
    },
    {
      "cell_type": "code",
      "execution_count": null,
      "id": "c0ed1205",
      "metadata": {
        "id": "c0ed1205",
        "outputId": "dde2fc51-a01f-486d-a748-d58cd19bad4c"
      },
      "outputs": [
        {
          "data": {
            "text/plain": [
              "'A wonderful little production. <br /><br />The filming technique is very unassuming- very old-time-BBC fashion and gives a comforting, and sometimes discomforting, sense of realism to the entire piece. <br /><br />The actors are extremely well chosen- Michael Sheen not only \"has got all the polari\" but he has all the voices down pat too! You can truly see the seamless editing guided by the references to Williams\\' diary entries, not only is it well worth the watching but it is a terrificly written and performed piece. A masterful production about one of the great master\\'s of comedy and his life. <br /><br />The realism really comes home with the little things: the fantasy of the guard which, rather than use the traditional \\'dream\\' techniques remains solid then disappears. It plays on our knowledge and our senses, particularly with the scenes concerning Orton and Halliwell and the sets (particularly of their flat with Halliwell\\'s murals decorating every surface) are terribly well done.'"
            ]
          },
          "execution_count": 5,
          "metadata": {},
          "output_type": "execute_result"
        }
      ],
      "source": [
        "df['review'][1]"
      ]
    },
    {
      "cell_type": "code",
      "execution_count": null,
      "id": "1ba8a0fe",
      "metadata": {
        "id": "1ba8a0fe",
        "outputId": "ab608138-23aa-4263-bce0-38af626f8ece"
      },
      "outputs": [
        {
          "data": {
            "text/plain": [
              "positive    5028\n",
              "negative    4972\n",
              "Name: sentiment, dtype: int64"
            ]
          },
          "execution_count": 6,
          "metadata": {},
          "output_type": "execute_result"
        }
      ],
      "source": [
        "df['sentiment'].value_counts()"
      ]
    },
    {
      "cell_type": "code",
      "execution_count": null,
      "id": "20668ec3",
      "metadata": {
        "id": "20668ec3",
        "outputId": "408ede2d-178b-47ab-e1e7-bbaa09f235e0"
      },
      "outputs": [
        {
          "data": {
            "text/plain": [
              "review       0\n",
              "sentiment    0\n",
              "dtype: int64"
            ]
          },
          "execution_count": 7,
          "metadata": {},
          "output_type": "execute_result"
        }
      ],
      "source": [
        "df.isnull().sum()"
      ]
    },
    {
      "cell_type": "code",
      "execution_count": null,
      "id": "f38dcd0c",
      "metadata": {
        "id": "f38dcd0c",
        "outputId": "4e0387a9-fb91-4c06-e6f6-39866faa040a"
      },
      "outputs": [
        {
          "data": {
            "text/plain": [
              "17"
            ]
          },
          "execution_count": 8,
          "metadata": {},
          "output_type": "execute_result"
        }
      ],
      "source": [
        "df.duplicated().sum()"
      ]
    },
    {
      "cell_type": "code",
      "execution_count": null,
      "id": "7cc41c39",
      "metadata": {
        "id": "7cc41c39"
      },
      "outputs": [],
      "source": [
        "df.drop_duplicates(inplace = True)"
      ]
    },
    {
      "cell_type": "code",
      "execution_count": null,
      "id": "2904612b",
      "metadata": {
        "id": "2904612b",
        "outputId": "8133dc55-12b5-4f73-ae7b-e7f2136ce407"
      },
      "outputs": [
        {
          "data": {
            "text/plain": [
              "0"
            ]
          },
          "execution_count": 11,
          "metadata": {},
          "output_type": "execute_result"
        }
      ],
      "source": [
        "df.duplicated().sum()"
      ]
    },
    {
      "cell_type": "code",
      "execution_count": null,
      "id": "84371746",
      "metadata": {
        "id": "84371746"
      },
      "outputs": [],
      "source": [
        "# Basic Preprocessing\n",
        "# Remove tags\n",
        "# Lowercase\n",
        "# remove stopwords"
      ]
    },
    {
      "cell_type": "code",
      "execution_count": null,
      "id": "5830698d",
      "metadata": {
        "id": "5830698d"
      },
      "outputs": [],
      "source": [
        "import re\n",
        "\n",
        "def remove_tags(raw_text):\n",
        "    cleaned_text = re.sub(re.compile('<.*?>'), '' , raw_text)\n",
        "    return cleaned_text"
      ]
    },
    {
      "cell_type": "code",
      "execution_count": null,
      "id": "33bd3db4",
      "metadata": {
        "id": "33bd3db4"
      },
      "outputs": [],
      "source": [
        "df['review'] = df['review'].apply(remove_tags)"
      ]
    },
    {
      "cell_type": "code",
      "execution_count": null,
      "id": "ee2a9f57",
      "metadata": {
        "id": "ee2a9f57",
        "outputId": "3a5d0b00-8379-4900-c3ca-7aeae6281f5c"
      },
      "outputs": [
        {
          "data": {
            "text/html": [
              "<div>\n",
              "<style scoped>\n",
              "    .dataframe tbody tr th:only-of-type {\n",
              "        vertical-align: middle;\n",
              "    }\n",
              "\n",
              "    .dataframe tbody tr th {\n",
              "        vertical-align: top;\n",
              "    }\n",
              "\n",
              "    .dataframe thead th {\n",
              "        text-align: right;\n",
              "    }\n",
              "</style>\n",
              "<table border=\"1\" class=\"dataframe\">\n",
              "  <thead>\n",
              "    <tr style=\"text-align: right;\">\n",
              "      <th></th>\n",
              "      <th>review</th>\n",
              "      <th>sentiment</th>\n",
              "    </tr>\n",
              "  </thead>\n",
              "  <tbody>\n",
              "    <tr>\n",
              "      <th>0</th>\n",
              "      <td>One of the other reviewers has mentioned that ...</td>\n",
              "      <td>positive</td>\n",
              "    </tr>\n",
              "    <tr>\n",
              "      <th>1</th>\n",
              "      <td>A wonderful little production. The filming tec...</td>\n",
              "      <td>positive</td>\n",
              "    </tr>\n",
              "  </tbody>\n",
              "</table>\n",
              "</div>"
            ],
            "text/plain": [
              "                                              review sentiment\n",
              "0  One of the other reviewers has mentioned that ...  positive\n",
              "1  A wonderful little production. The filming tec...  positive"
            ]
          },
          "execution_count": 12,
          "metadata": {},
          "output_type": "execute_result"
        }
      ],
      "source": [
        "df.head(2)"
      ]
    },
    {
      "cell_type": "code",
      "execution_count": null,
      "id": "e63deb89",
      "metadata": {
        "id": "e63deb89"
      },
      "outputs": [],
      "source": [
        "df['review'] = df['review'].apply(lambda x:x.lower())"
      ]
    },
    {
      "cell_type": "code",
      "execution_count": null,
      "id": "ef7f8a87",
      "metadata": {
        "id": "ef7f8a87"
      },
      "outputs": [],
      "source": [
        "from nltk.corpus import stopwords\n",
        "sw_list = stopwords.words('english')\n",
        "\n",
        "df['review'] = df['review'].apply(lambda x : [item for item in x.split()\n",
        "                                              if item not in sw_list]).apply(lambda x:\" \".join(x))"
      ]
    },
    {
      "cell_type": "code",
      "execution_count": null,
      "id": "88538665",
      "metadata": {
        "id": "88538665",
        "outputId": "db64d970-1851-4eb4-e534-afbf8059404f"
      },
      "outputs": [
        {
          "data": {
            "text/html": [
              "<div>\n",
              "<style scoped>\n",
              "    .dataframe tbody tr th:only-of-type {\n",
              "        vertical-align: middle;\n",
              "    }\n",
              "\n",
              "    .dataframe tbody tr th {\n",
              "        vertical-align: top;\n",
              "    }\n",
              "\n",
              "    .dataframe thead th {\n",
              "        text-align: right;\n",
              "    }\n",
              "</style>\n",
              "<table border=\"1\" class=\"dataframe\">\n",
              "  <thead>\n",
              "    <tr style=\"text-align: right;\">\n",
              "      <th></th>\n",
              "      <th>review</th>\n",
              "      <th>sentiment</th>\n",
              "    </tr>\n",
              "  </thead>\n",
              "  <tbody>\n",
              "    <tr>\n",
              "      <th>0</th>\n",
              "      <td>one reviewers mentioned watching 1 oz episode ...</td>\n",
              "      <td>positive</td>\n",
              "    </tr>\n",
              "    <tr>\n",
              "      <th>1</th>\n",
              "      <td>wonderful little production. filming technique...</td>\n",
              "      <td>positive</td>\n",
              "    </tr>\n",
              "    <tr>\n",
              "      <th>2</th>\n",
              "      <td>thought wonderful way spend time hot summer we...</td>\n",
              "      <td>positive</td>\n",
              "    </tr>\n",
              "    <tr>\n",
              "      <th>3</th>\n",
              "      <td>basically there's family little boy (jake) thi...</td>\n",
              "      <td>negative</td>\n",
              "    </tr>\n",
              "    <tr>\n",
              "      <th>4</th>\n",
              "      <td>petter mattei's \"love time money\" visually stu...</td>\n",
              "      <td>positive</td>\n",
              "    </tr>\n",
              "    <tr>\n",
              "      <th>...</th>\n",
              "      <td>...</td>\n",
              "      <td>...</td>\n",
              "    </tr>\n",
              "    <tr>\n",
              "      <th>9995</th>\n",
              "      <td>fun, entertaining movie wwii german spy (julie...</td>\n",
              "      <td>positive</td>\n",
              "    </tr>\n",
              "    <tr>\n",
              "      <th>9996</th>\n",
              "      <td>give break. anyone say \"good hockey movie\"? kn...</td>\n",
              "      <td>negative</td>\n",
              "    </tr>\n",
              "    <tr>\n",
              "      <th>9997</th>\n",
              "      <td>movie bad movie. watching endless series bad h...</td>\n",
              "      <td>negative</td>\n",
              "    </tr>\n",
              "    <tr>\n",
              "      <th>9998</th>\n",
              "      <td>movie probably made entertain middle school, e...</td>\n",
              "      <td>negative</td>\n",
              "    </tr>\n",
              "    <tr>\n",
              "      <th>9999</th>\n",
              "      <td>smashing film film-making. shows intense stran...</td>\n",
              "      <td>positive</td>\n",
              "    </tr>\n",
              "  </tbody>\n",
              "</table>\n",
              "<p>10000 rows × 2 columns</p>\n",
              "</div>"
            ],
            "text/plain": [
              "                                                 review sentiment\n",
              "0     one reviewers mentioned watching 1 oz episode ...  positive\n",
              "1     wonderful little production. filming technique...  positive\n",
              "2     thought wonderful way spend time hot summer we...  positive\n",
              "3     basically there's family little boy (jake) thi...  negative\n",
              "4     petter mattei's \"love time money\" visually stu...  positive\n",
              "...                                                 ...       ...\n",
              "9995  fun, entertaining movie wwii german spy (julie...  positive\n",
              "9996  give break. anyone say \"good hockey movie\"? kn...  negative\n",
              "9997  movie bad movie. watching endless series bad h...  negative\n",
              "9998  movie probably made entertain middle school, e...  negative\n",
              "9999  smashing film film-making. shows intense stran...  positive\n",
              "\n",
              "[10000 rows x 2 columns]"
            ]
          },
          "execution_count": 15,
          "metadata": {},
          "output_type": "execute_result"
        }
      ],
      "source": [
        "df"
      ]
    },
    {
      "cell_type": "code",
      "execution_count": null,
      "id": "a74bb926",
      "metadata": {
        "id": "a74bb926"
      },
      "outputs": [],
      "source": [
        "x = df.iloc[: , 0:1]\n",
        "y = df['sentiment']"
      ]
    },
    {
      "cell_type": "code",
      "execution_count": null,
      "id": "364d04b6",
      "metadata": {
        "id": "364d04b6",
        "outputId": "97e4cccf-6a76-4fa6-c7ea-971c4ba6ed3a"
      },
      "outputs": [
        {
          "data": {
            "text/html": [
              "<div>\n",
              "<style scoped>\n",
              "    .dataframe tbody tr th:only-of-type {\n",
              "        vertical-align: middle;\n",
              "    }\n",
              "\n",
              "    .dataframe tbody tr th {\n",
              "        vertical-align: top;\n",
              "    }\n",
              "\n",
              "    .dataframe thead th {\n",
              "        text-align: right;\n",
              "    }\n",
              "</style>\n",
              "<table border=\"1\" class=\"dataframe\">\n",
              "  <thead>\n",
              "    <tr style=\"text-align: right;\">\n",
              "      <th></th>\n",
              "      <th>review</th>\n",
              "    </tr>\n",
              "  </thead>\n",
              "  <tbody>\n",
              "    <tr>\n",
              "      <th>0</th>\n",
              "      <td>one reviewers mentioned watching 1 oz episode ...</td>\n",
              "    </tr>\n",
              "    <tr>\n",
              "      <th>1</th>\n",
              "      <td>wonderful little production. filming technique...</td>\n",
              "    </tr>\n",
              "    <tr>\n",
              "      <th>2</th>\n",
              "      <td>thought wonderful way spend time hot summer we...</td>\n",
              "    </tr>\n",
              "    <tr>\n",
              "      <th>3</th>\n",
              "      <td>basically there's family little boy (jake) thi...</td>\n",
              "    </tr>\n",
              "    <tr>\n",
              "      <th>4</th>\n",
              "      <td>petter mattei's \"love time money\" visually stu...</td>\n",
              "    </tr>\n",
              "    <tr>\n",
              "      <th>...</th>\n",
              "      <td>...</td>\n",
              "    </tr>\n",
              "    <tr>\n",
              "      <th>9995</th>\n",
              "      <td>fun, entertaining movie wwii german spy (julie...</td>\n",
              "    </tr>\n",
              "    <tr>\n",
              "      <th>9996</th>\n",
              "      <td>give break. anyone say \"good hockey movie\"? kn...</td>\n",
              "    </tr>\n",
              "    <tr>\n",
              "      <th>9997</th>\n",
              "      <td>movie bad movie. watching endless series bad h...</td>\n",
              "    </tr>\n",
              "    <tr>\n",
              "      <th>9998</th>\n",
              "      <td>movie probably made entertain middle school, e...</td>\n",
              "    </tr>\n",
              "    <tr>\n",
              "      <th>9999</th>\n",
              "      <td>smashing film film-making. shows intense stran...</td>\n",
              "    </tr>\n",
              "  </tbody>\n",
              "</table>\n",
              "<p>10000 rows × 1 columns</p>\n",
              "</div>"
            ],
            "text/plain": [
              "                                                 review\n",
              "0     one reviewers mentioned watching 1 oz episode ...\n",
              "1     wonderful little production. filming technique...\n",
              "2     thought wonderful way spend time hot summer we...\n",
              "3     basically there's family little boy (jake) thi...\n",
              "4     petter mattei's \"love time money\" visually stu...\n",
              "...                                                 ...\n",
              "9995  fun, entertaining movie wwii german spy (julie...\n",
              "9996  give break. anyone say \"good hockey movie\"? kn...\n",
              "9997  movie bad movie. watching endless series bad h...\n",
              "9998  movie probably made entertain middle school, e...\n",
              "9999  smashing film film-making. shows intense stran...\n",
              "\n",
              "[10000 rows x 1 columns]"
            ]
          },
          "execution_count": 17,
          "metadata": {},
          "output_type": "execute_result"
        }
      ],
      "source": [
        "x"
      ]
    },
    {
      "cell_type": "code",
      "execution_count": null,
      "id": "c9b73e94",
      "metadata": {
        "id": "c9b73e94"
      },
      "outputs": [],
      "source": [
        "from sklearn.preprocessing import LabelEncoder\n",
        "\n",
        "encoder = LabelEncoder()\n",
        "y = encoder.fit_transform(y)"
      ]
    },
    {
      "cell_type": "code",
      "execution_count": null,
      "id": "d8c2a20b",
      "metadata": {
        "id": "d8c2a20b"
      },
      "outputs": [],
      "source": [
        "from sklearn.model_selection import train_test_split\n",
        "x_train , x_test , y_train , y_test = train_test_split(x,y,test_size =0.2 , random_state = 1)\n"
      ]
    },
    {
      "cell_type": "code",
      "execution_count": null,
      "id": "f4723829",
      "metadata": {
        "id": "f4723829",
        "outputId": "d4c35690-7e01-485d-dba3-585f2c3afd80"
      },
      "outputs": [
        {
          "data": {
            "text/plain": [
              "(8000, 1)"
            ]
          },
          "execution_count": 20,
          "metadata": {},
          "output_type": "execute_result"
        }
      ],
      "source": [
        "x_train.shape"
      ]
    },
    {
      "cell_type": "code",
      "execution_count": null,
      "id": "f193748b",
      "metadata": {
        "id": "f193748b"
      },
      "outputs": [],
      "source": [
        "# Applying BOW\n",
        "from sklearn.feature_extraction.text import CountVectorizer\n",
        "cv = CountVectorizer()"
      ]
    },
    {
      "cell_type": "code",
      "execution_count": null,
      "id": "9e5e29f2",
      "metadata": {
        "id": "9e5e29f2"
      },
      "outputs": [],
      "source": [
        "x_train_bow = cv.fit_transform(x_train['review']).toarray()\n",
        "x_test_bow = cv.transform(x_test['review']).toarray()"
      ]
    },
    {
      "cell_type": "code",
      "execution_count": null,
      "id": "cdd2aea3",
      "metadata": {
        "id": "cdd2aea3",
        "outputId": "103945aa-b1cd-4830-fec5-1c671adc205f"
      },
      "outputs": [
        {
          "data": {
            "text/plain": [
              "GaussianNB()"
            ]
          },
          "execution_count": 23,
          "metadata": {},
          "output_type": "execute_result"
        }
      ],
      "source": [
        "from sklearn.naive_bayes import GaussianNB\n",
        "\n",
        "gnb = GaussianNB()\n",
        "gnb.fit(x_train_bow , y_train)"
      ]
    },
    {
      "cell_type": "code",
      "execution_count": null,
      "id": "c9aec069",
      "metadata": {
        "id": "c9aec069"
      },
      "outputs": [],
      "source": [
        "y_pred = gnb.predict(x_test_bow)\n",
        "\n",
        "from sklearn.metrics import accuracy_score , confusion_matrix\n",
        "# accuracy_score(y_test,y_pred)"
      ]
    },
    {
      "cell_type": "code",
      "execution_count": null,
      "id": "9b11510e",
      "metadata": {
        "id": "9b11510e"
      },
      "outputs": [],
      "source": [
        "# confusion_matrix(y_test , y_pred)"
      ]
    },
    {
      "cell_type": "code",
      "execution_count": null,
      "id": "ad1468d0",
      "metadata": {
        "id": "ad1468d0"
      },
      "outputs": [],
      "source": [
        "from sklearn.ensemble import RandomForestClassifier\n",
        "# rf = RandomForestClassifier()\n",
        "\n",
        "# rf.fit(x_train_bow , y_train)\n",
        "# y_pred = rf.predict(x_test_bow)\n",
        "# accuracy_score(y_test , y_pred)"
      ]
    },
    {
      "cell_type": "code",
      "execution_count": null,
      "id": "2c8df52e",
      "metadata": {
        "id": "2c8df52e",
        "outputId": "70570e74-2f85-4b55-85e4-bfb632b5171f"
      },
      "outputs": [
        {
          "data": {
            "text/plain": [
              "0.8585"
            ]
          },
          "execution_count": 29,
          "metadata": {},
          "output_type": "execute_result"
        }
      ],
      "source": [
        "cv = CountVectorizer(max_features = 3000)\n",
        "\n",
        "x_train_bow = cv.fit_transform(x_train['review']).toarray()\n",
        "x_test_bow = cv.transform(x_test['review']).toarray()\n",
        "\n",
        "rf = RandomForestClassifier()\n",
        "rf.fit(x_train_bow , y_train)\n",
        "y_pred = rf.predict(x_test_bow)\n",
        "accuracy_score(y_test , y_pred)"
      ]
    },
    {
      "cell_type": "code",
      "execution_count": null,
      "id": "77a311aa",
      "metadata": {
        "id": "77a311aa",
        "outputId": "fd833c1d-8e1b-4289-d3f6-993620777296"
      },
      "outputs": [
        {
          "data": {
            "text/plain": [
              "(8000, 3000)"
            ]
          },
          "execution_count": 30,
          "metadata": {},
          "output_type": "execute_result"
        }
      ],
      "source": [
        "x_train_bow.shape"
      ]
    },
    {
      "cell_type": "code",
      "execution_count": null,
      "id": "a617623f",
      "metadata": {
        "id": "a617623f",
        "outputId": "ba2448db-f3a9-4821-995c-83902f2edc58"
      },
      "outputs": [
        {
          "data": {
            "text/plain": [
              "0.8615"
            ]
          },
          "execution_count": 31,
          "metadata": {},
          "output_type": "execute_result"
        }
      ],
      "source": [
        "cv = CountVectorizer(ngram_range = (1,2) , max_features = 5000)\n",
        "\n",
        "x_train_bow = cv.fit_transform(x_train['review']).toarray()\n",
        "x_test_bow = cv.transform(x_test['review']).toarray()\n",
        "\n",
        "rf.fit(x_train_bow , y_train)\n",
        "y_pred = rf.predict(x_test_bow)\n",
        "accuracy_score(y_test , y_pred)"
      ]
    },
    {
      "cell_type": "markdown",
      "id": "8b1a7ab1",
      "metadata": {
        "id": "8b1a7ab1"
      },
      "source": [
        "# using TFidf"
      ]
    },
    {
      "cell_type": "code",
      "execution_count": null,
      "id": "fdeca405",
      "metadata": {
        "id": "fdeca405"
      },
      "outputs": [],
      "source": [
        "from sklearn.feature_extraction.text import TfidfVectorizer"
      ]
    },
    {
      "cell_type": "code",
      "execution_count": null,
      "id": "ea0c6dc3",
      "metadata": {
        "id": "ea0c6dc3"
      },
      "outputs": [],
      "source": [
        "tfidf = TfidfVectorizer()\n"
      ]
    },
    {
      "cell_type": "code",
      "execution_count": null,
      "id": "f3501c9c",
      "metadata": {
        "id": "f3501c9c"
      },
      "outputs": [],
      "source": [
        "x_train_tfidf = tfidf.fit_transform(x_train['review']).toarray()\n",
        "x_test_tfidf = tfidf.transform(x_test['review'])"
      ]
    },
    {
      "cell_type": "code",
      "execution_count": null,
      "id": "80a6bbdc",
      "metadata": {
        "id": "80a6bbdc",
        "outputId": "7d9f333c-3582-41f7-96d5-4dda367542db"
      },
      "outputs": [
        {
          "data": {
            "text/plain": [
              "0.8525"
            ]
          },
          "execution_count": 35,
          "metadata": {},
          "output_type": "execute_result"
        }
      ],
      "source": [
        "rf = RandomForestClassifier()\n",
        "\n",
        "rf.fit(x_train_tfidf , y_train)\n",
        "y_pred = rf.predict(x_test_tfidf)\n",
        "\n",
        "accuracy_score(y_test , y_pred)"
      ]
    },
    {
      "cell_type": "code",
      "execution_count": null,
      "id": "130b51d1",
      "metadata": {
        "id": "130b51d1"
      },
      "outputs": [],
      "source": []
    }
  ],
  "metadata": {
    "kernelspec": {
      "display_name": "Python 3 (ipykernel)",
      "language": "python",
      "name": "python3"
    },
    "language_info": {
      "codemirror_mode": {
        "name": "ipython",
        "version": 3
      },
      "file_extension": ".py",
      "mimetype": "text/x-python",
      "name": "python",
      "nbconvert_exporter": "python",
      "pygments_lexer": "ipython3",
      "version": "3.9.12"
    },
    "colab": {
      "provenance": []
    }
  },
  "nbformat": 4,
  "nbformat_minor": 5
}