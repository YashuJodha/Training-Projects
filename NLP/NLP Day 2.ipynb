{
 "cells": [
  {
   "cell_type": "markdown",
   "id": "5694766a",
   "metadata": {},
   "source": [
    "## Text Representation"
   ]
  },
  {
   "cell_type": "code",
   "execution_count": 2,
   "id": "ba34c15a",
   "metadata": {},
   "outputs": [],
   "source": [
    "# 1) Bag of words\n",
    "# we use countvectorization"
   ]
  },
  {
   "cell_type": "code",
   "execution_count": 1,
   "id": "5803e8f1",
   "metadata": {},
   "outputs": [],
   "source": [
    "import numpy as np\n",
    "import pandas as pd"
   ]
  },
  {
   "cell_type": "code",
   "execution_count": 5,
   "id": "05655309",
   "metadata": {},
   "outputs": [],
   "source": [
    "df  = pd.DataFrame({'text':['people watch cricket','player was aplayer','people write comment',\n",
    "                           'cricket play comment'],'output':[1,1,0,0]})"
   ]
  },
  {
   "cell_type": "code",
   "execution_count": 6,
   "id": "b6b8a803",
   "metadata": {},
   "outputs": [
    {
     "data": {
      "text/html": [
       "<div>\n",
       "<style scoped>\n",
       "    .dataframe tbody tr th:only-of-type {\n",
       "        vertical-align: middle;\n",
       "    }\n",
       "\n",
       "    .dataframe tbody tr th {\n",
       "        vertical-align: top;\n",
       "    }\n",
       "\n",
       "    .dataframe thead th {\n",
       "        text-align: right;\n",
       "    }\n",
       "</style>\n",
       "<table border=\"1\" class=\"dataframe\">\n",
       "  <thead>\n",
       "    <tr style=\"text-align: right;\">\n",
       "      <th></th>\n",
       "      <th>text</th>\n",
       "      <th>output</th>\n",
       "    </tr>\n",
       "  </thead>\n",
       "  <tbody>\n",
       "    <tr>\n",
       "      <th>0</th>\n",
       "      <td>people watch cricket</td>\n",
       "      <td>1</td>\n",
       "    </tr>\n",
       "    <tr>\n",
       "      <th>1</th>\n",
       "      <td>player was aplayer</td>\n",
       "      <td>1</td>\n",
       "    </tr>\n",
       "    <tr>\n",
       "      <th>2</th>\n",
       "      <td>people write comment</td>\n",
       "      <td>0</td>\n",
       "    </tr>\n",
       "    <tr>\n",
       "      <th>3</th>\n",
       "      <td>cricket play comment</td>\n",
       "      <td>0</td>\n",
       "    </tr>\n",
       "  </tbody>\n",
       "</table>\n",
       "</div>"
      ],
      "text/plain": [
       "                   text  output\n",
       "0  people watch cricket       1\n",
       "1    player was aplayer       1\n",
       "2  people write comment       0\n",
       "3  cricket play comment       0"
      ]
     },
     "execution_count": 6,
     "metadata": {},
     "output_type": "execute_result"
    }
   ],
   "source": [
    "df"
   ]
  },
  {
   "cell_type": "code",
   "execution_count": 7,
   "id": "6e4c8e77",
   "metadata": {},
   "outputs": [],
   "source": [
    "from sklearn.feature_extraction.text import CountVectorizer"
   ]
  },
  {
   "cell_type": "code",
   "execution_count": 8,
   "id": "3597ade6",
   "metadata": {},
   "outputs": [],
   "source": [
    "cv = CountVectorizer()"
   ]
  },
  {
   "cell_type": "code",
   "execution_count": 12,
   "id": "5b970eaf",
   "metadata": {},
   "outputs": [],
   "source": [
    "bow = cv.fit_transform(df['text'])"
   ]
  },
  {
   "cell_type": "code",
   "execution_count": 13,
   "id": "ce1a21f0",
   "metadata": {},
   "outputs": [
    {
     "name": "stdout",
     "output_type": "stream",
     "text": [
      "{'people': 3, 'watch': 7, 'cricket': 2, 'player': 5, 'was': 6, 'aplayer': 0, 'write': 8, 'comment': 1, 'play': 4}\n"
     ]
    }
   ],
   "source": [
    "# vocab\n",
    "print(cv.vocabulary_)"
   ]
  },
  {
   "cell_type": "code",
   "execution_count": 14,
   "id": "ec413d63",
   "metadata": {},
   "outputs": [
    {
     "name": "stdout",
     "output_type": "stream",
     "text": [
      "[[0 0 1 1 0 0 0 1 0]]\n",
      "[[1 0 0 0 0 1 1 0 0]]\n"
     ]
    }
   ],
   "source": [
    "print(bow[0].toarray())\n",
    "print(bow[1].toarray())"
   ]
  },
  {
   "cell_type": "code",
   "execution_count": 15,
   "id": "444cb57d",
   "metadata": {},
   "outputs": [
    {
     "data": {
      "text/plain": [
       "array([[0, 2, 2, 0, 0, 0, 0, 1, 1]], dtype=int64)"
      ]
     },
     "execution_count": 15,
     "metadata": {},
     "output_type": "execute_result"
    }
   ],
   "source": [
    "cv.transform([\"Cricket watch and write comment of cricket comment\"]).toarray()"
   ]
  },
  {
   "cell_type": "code",
   "execution_count": 16,
   "id": "2d7c6536",
   "metadata": {},
   "outputs": [],
   "source": [
    "# 2) N-gram"
   ]
  },
  {
   "cell_type": "code",
   "execution_count": 17,
   "id": "c3aa2228",
   "metadata": {},
   "outputs": [],
   "source": [
    "# cv = CountVectorizer(ngram_range(2,2))"
   ]
  },
  {
   "cell_type": "code",
   "execution_count": 18,
   "id": "70e34b51",
   "metadata": {},
   "outputs": [],
   "source": [
    "v = CountVectorizer(ngram_range=(1,2))"
   ]
  },
  {
   "cell_type": "code",
   "execution_count": 19,
   "id": "20868fda",
   "metadata": {},
   "outputs": [],
   "source": [
    "bow = v.fit_transform(df['text'])"
   ]
  },
  {
   "cell_type": "code",
   "execution_count": 20,
   "id": "3dbd8277",
   "metadata": {},
   "outputs": [
    {
     "data": {
      "text/plain": [
       "0    people watch cricket\n",
       "1      player was aplayer\n",
       "2    people write comment\n",
       "3    cricket play comment\n",
       "Name: text, dtype: object"
      ]
     },
     "execution_count": 20,
     "metadata": {},
     "output_type": "execute_result"
    }
   ],
   "source": [
    "df['text']"
   ]
  },
  {
   "cell_type": "code",
   "execution_count": 22,
   "id": "cdb84f27",
   "metadata": {},
   "outputs": [
    {
     "name": "stdout",
     "output_type": "stream",
     "text": [
      "{'people': 4, 'watch': 13, 'cricket': 2, 'people watch': 5, 'watch cricket': 14, 'player': 9, 'was': 11, 'aplayer': 0, 'player was': 10, 'was aplayer': 12, 'write': 15, 'comment': 1, 'people write': 6, 'write comment': 16, 'play': 7, 'cricket play': 3, 'play comment': 8}\n"
     ]
    }
   ],
   "source": [
    "# vocab\n",
    "print(v.vocabulary_)"
   ]
  },
  {
   "cell_type": "code",
   "execution_count": 23,
   "id": "22ea2311",
   "metadata": {},
   "outputs": [],
   "source": [
    "# TF(Term Frequency)\n",
    "# 2) IDF (Inverse Document Frequency)"
   ]
  },
  {
   "cell_type": "code",
   "execution_count": 24,
   "id": "560d2b9f",
   "metadata": {},
   "outputs": [],
   "source": [
    "# TF(t,d) = (Number of occurences of term t in document d)/(Total no of terms in document d)\n",
    "\n",
    "# Example ==>\n",
    "# d1=people watch cricket\n",
    "\n",
    "# tf(people,d1) = 1/3\n",
    "\n",
    "# d2= match was match\n",
    "# tf(match,d2)=2/3"
   ]
  },
  {
   "cell_type": "code",
   "execution_count": 25,
   "id": "bdca665e",
   "metadata": {},
   "outputs": [],
   "source": [
    "# IDF(t) = Loge(Total no of document in corpus)/(Number of documents with term t in them)\n",
    "# here the corpus means no of sentecces\n",
    "\n",
    "# Example ==>\n",
    "# d1=people watch  cricket\n",
    "# d2=cricket was cricket\n",
    "# d3=people write comment\n",
    "# d4=cricket with comment\n",
    "\n",
    "# idf(cricket) = log(4/4)\n",
    "# idf(people)=log(4/2)"
   ]
  },
  {
   "cell_type": "code",
   "execution_count": 26,
   "id": "9495f3d6",
   "metadata": {},
   "outputs": [],
   "source": [
    "# we cab use this by apply feature_extraction method in sklearn"
   ]
  },
  {
   "cell_type": "code",
   "execution_count": 27,
   "id": "cfc78265",
   "metadata": {},
   "outputs": [
    {
     "data": {
      "text/html": [
       "<div>\n",
       "<style scoped>\n",
       "    .dataframe tbody tr th:only-of-type {\n",
       "        vertical-align: middle;\n",
       "    }\n",
       "\n",
       "    .dataframe tbody tr th {\n",
       "        vertical-align: top;\n",
       "    }\n",
       "\n",
       "    .dataframe thead th {\n",
       "        text-align: right;\n",
       "    }\n",
       "</style>\n",
       "<table border=\"1\" class=\"dataframe\">\n",
       "  <thead>\n",
       "    <tr style=\"text-align: right;\">\n",
       "      <th></th>\n",
       "      <th>text</th>\n",
       "      <th>output</th>\n",
       "    </tr>\n",
       "  </thead>\n",
       "  <tbody>\n",
       "    <tr>\n",
       "      <th>0</th>\n",
       "      <td>people watch cricket</td>\n",
       "      <td>1</td>\n",
       "    </tr>\n",
       "    <tr>\n",
       "      <th>1</th>\n",
       "      <td>player was aplayer</td>\n",
       "      <td>1</td>\n",
       "    </tr>\n",
       "    <tr>\n",
       "      <th>2</th>\n",
       "      <td>people write comment</td>\n",
       "      <td>0</td>\n",
       "    </tr>\n",
       "    <tr>\n",
       "      <th>3</th>\n",
       "      <td>cricket play comment</td>\n",
       "      <td>0</td>\n",
       "    </tr>\n",
       "  </tbody>\n",
       "</table>\n",
       "</div>"
      ],
      "text/plain": [
       "                   text  output\n",
       "0  people watch cricket       1\n",
       "1    player was aplayer       1\n",
       "2  people write comment       0\n",
       "3  cricket play comment       0"
      ]
     },
     "execution_count": 27,
     "metadata": {},
     "output_type": "execute_result"
    }
   ],
   "source": [
    "df"
   ]
  },
  {
   "cell_type": "code",
   "execution_count": 29,
   "id": "3c8000d8",
   "metadata": {},
   "outputs": [
    {
     "data": {
      "text/plain": [
       "array([[0.        , 0.        , 0.52640543, 0.52640543, 0.        ,\n",
       "        0.        , 0.        , 0.66767854, 0.        ],\n",
       "       [0.57735027, 0.        , 0.        , 0.        , 0.        ,\n",
       "        0.57735027, 0.57735027, 0.        , 0.        ],\n",
       "       [0.        , 0.52640543, 0.        , 0.52640543, 0.        ,\n",
       "        0.        , 0.        , 0.        , 0.66767854],\n",
       "       [0.        , 0.52640543, 0.52640543, 0.        , 0.66767854,\n",
       "        0.        , 0.        , 0.        , 0.        ]])"
      ]
     },
     "execution_count": 29,
     "metadata": {},
     "output_type": "execute_result"
    }
   ],
   "source": [
    "from sklearn.feature_extraction.text import TfidfVectorizer\n",
    "\n",
    "tfidf = TfidfVectorizer()\n",
    "tfidf.fit_transform(df['text']).toarray()"
   ]
  },
  {
   "cell_type": "code",
   "execution_count": 30,
   "id": "83eb4d78",
   "metadata": {},
   "outputs": [
    {
     "name": "stdout",
     "output_type": "stream",
     "text": [
      "[1.91629073 1.51082562 1.51082562 1.51082562 1.91629073 1.91629073\n",
      " 1.91629073 1.91629073 1.91629073]\n"
     ]
    }
   ],
   "source": [
    "print(tfidf.idf_)"
   ]
  },
  {
   "cell_type": "code",
   "execution_count": 31,
   "id": "7e8af37f",
   "metadata": {},
   "outputs": [
    {
     "name": "stdout",
     "output_type": "stream",
     "text": [
      "['aplayer' 'comment' 'cricket' 'people' 'play' 'player' 'was' 'watch'\n",
      " 'write']\n"
     ]
    }
   ],
   "source": [
    "print(tfidf.get_feature_names_out())"
   ]
  },
  {
   "cell_type": "markdown",
   "id": "ba2b0685",
   "metadata": {},
   "source": [
    "## Word Embedding"
   ]
  },
  {
   "cell_type": "code",
   "execution_count": null,
   "id": "cd4b0e10",
   "metadata": {},
   "outputs": [],
   "source": [
    "## In natural language processing "
   ]
  }
 ],
 "metadata": {
  "kernelspec": {
   "display_name": "Python 3 (ipykernel)",
   "language": "python",
   "name": "python3"
  },
  "language_info": {
   "codemirror_mode": {
    "name": "ipython",
    "version": 3
   },
   "file_extension": ".py",
   "mimetype": "text/x-python",
   "name": "python",
   "nbconvert_exporter": "python",
   "pygments_lexer": "ipython3",
   "version": "3.11.3"
  }
 },
 "nbformat": 4,
 "nbformat_minor": 5
}
